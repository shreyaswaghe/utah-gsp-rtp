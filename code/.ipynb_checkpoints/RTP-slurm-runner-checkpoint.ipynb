{
 "cells": [
  {
   "cell_type": "code",
   "execution_count": 1,
   "id": "92a61130-3751-4e60-865f-e3fdd18501ed",
   "metadata": {},
   "outputs": [
    {
     "ename": "ModuleNotFoundError",
     "evalue": "No module named 'slurm_sweeper'",
     "output_type": "error",
     "traceback": [
      "\u001b[0;31m---------------------------------------------------------------------------\u001b[0m",
      "\u001b[0;31mModuleNotFoundError\u001b[0m                       Traceback (most recent call last)",
      "Cell \u001b[0;32mIn[1], line 1\u001b[0m\n\u001b[0;32m----> 1\u001b[0m \u001b[38;5;28;01mfrom\u001b[39;00m \u001b[38;5;21;01mslurm_sweeper\u001b[39;00m \u001b[38;5;28;01mimport\u001b[39;00m get_script\n",
      "\u001b[0;31mModuleNotFoundError\u001b[0m: No module named 'slurm_sweeper'"
     ]
    }
   ],
   "source": [
    "from slurm_sweeper import get_script"
   ]
  },
  {
   "cell_type": "code",
   "execution_count": 5,
   "id": "771787df-d01b-45e3-a8e5-ce0ec9cbe56b",
   "metadata": {},
   "outputs": [
    {
     "data": {
      "text/plain": [
       "['./bin/rtp_sim', '0.100', '0.300', '--L', '1.000', '--v', '0.200']"
      ]
     },
     "execution_count": 5,
     "metadata": {},
     "output_type": "execute_result"
    }
   ],
   "source": [
    "for rate_reset in range_rate_reset:\n",
    "    "
   ]
  },
  {
   "cell_type": "code",
   "execution_count": null,
   "id": "e69e46f6-8f6d-447a-9db4-eb111291b6b0",
   "metadata": {},
   "outputs": [],
   "source": []
  }
 ],
 "metadata": {
  "kernelspec": {
   "display_name": "Python 3 (ipykernel)",
   "language": "python",
   "name": "python3"
  },
  "language_info": {
   "codemirror_mode": {
    "name": "ipython",
    "version": 3
   },
   "file_extension": ".py",
   "mimetype": "text/x-python",
   "name": "python",
   "nbconvert_exporter": "python",
   "pygments_lexer": "ipython3",
   "version": "3.12.0"
  }
 },
 "nbformat": 4,
 "nbformat_minor": 5
}
