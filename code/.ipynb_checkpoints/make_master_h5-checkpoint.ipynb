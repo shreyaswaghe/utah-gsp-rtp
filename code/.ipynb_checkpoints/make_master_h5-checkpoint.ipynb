{
 "cells": [
  {
   "cell_type": "code",
   "execution_count": 1,
   "id": "4116e633-88d6-4928-b70f-2fdc8b8526db",
   "metadata": {},
   "outputs": [],
   "source": [
    "import numpy as np\n",
    "import matplotlib as plt\n",
    "import h5py\n",
    "\n",
    "import os, sys\n",
    "from pathlib import Path\n",
    "\n",
    "master_file = h5py.File('results/rtp-test/master.h5', 'w')"
   ]
  },
  {
   "cell_type": "code",
   "execution_count": 2,
   "id": "ba395f57-d6f9-41ca-ac35-99b56015f55a",
   "metadata": {},
   "outputs": [],
   "source": [
    "h5files = filter(lambda x: x.endswith('h5') and x != 'master.h5', os.listdir('results/rtp-test/'))\n",
    "h5files = list(h5files)\n",
    "h5files.sort()"
   ]
  },
  {
   "cell_type": "code",
   "execution_count": 3,
   "id": "b498554b-5f4b-4349-a1c6-e02395f7d3b5",
   "metadata": {},
   "outputs": [],
   "source": [
    "for file in h5files:\n",
    "    try:\n",
    "        f = h5py.File(f'results/rtp-test/{file}')\n",
    "        grp = master_file.create_group(f'{Path(file).stem}')\n",
    "    \n",
    "        for key in f['metadata'].keys():\n",
    "            grp[f'metadata/{key}'] = f[f'metadata/{key}'][()]\n",
    "    \n",
    "        for key in f['rawdata'].keys():\n",
    "            vds_shape = f[f'rawdata/{key}'].shape\n",
    "            vds_layout = h5py.VirtualLayout(vds_shape, np.float64)\n",
    "            vds_layout[:] = h5py.VirtualSource(file, name=f'rawdata/{key}', shape=(5000,), dtype=np.float64, maxshape=(None,))\n",
    "            grp.create_virtual_dataset(f'rawdata/{key}', vds_layout, fillvalue=-1)\n",
    "    except:\n",
    "        print(file)"
   ]
  },
  {
   "cell_type": "code",
   "execution_count": null,
   "id": "753822cd-f05a-42c8-9ebc-672745de42c5",
   "metadata": {},
   "outputs": [],
   "source": []
  }
 ],
 "metadata": {
  "kernelspec": {
   "display_name": "Python 3 (ipykernel)",
   "language": "python",
   "name": "python3"
  },
  "language_info": {
   "codemirror_mode": {
    "name": "ipython",
    "version": 3
   },
   "file_extension": ".py",
   "mimetype": "text/x-python",
   "name": "python",
   "nbconvert_exporter": "python",
   "pygments_lexer": "ipython3",
   "version": "3.12.0"
  }
 },
 "nbformat": 4,
 "nbformat_minor": 5
}
