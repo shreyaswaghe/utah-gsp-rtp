{
 "cells": [
  {
   "cell_type": "code",
   "execution_count": 6,
   "id": "92a61130-3751-4e60-865f-e3fdd18501ed",
   "metadata": {},
   "outputs": [],
   "source": [
    "from slurm_sweeper import get_script, save_script\n",
    "import numpy as np"
   ]
  },
  {
   "cell_type": "code",
   "execution_count": 11,
   "id": "771787df-d01b-45e3-a8e5-ce0ec9cbe56b",
   "metadata": {},
   "outputs": [],
   "source": [
    "fields = {\n",
    "    'memory': 2,\n",
    "    'memory_unit': 'GB',\n",
    "    'num_nodes': 1,\n",
    "    'num_cpus': 1,\n",
    "    'time_d': 0, 'time_h': 4, 'time_m': 0, 'time_s': 0,\n",
    "    'job_name': 'rtp-test',\n",
    "    'output': 'output/output-%j.txt'\n",
    "}\n",
    "\n",
    "params = {\n",
    "    \"rate_reset\" : list(np.round(np.linspace(0.01, 30, 50), decimals=2)),\n",
    "    \"rate_switch\": list(np.round(np.linspace(1,5,5), decimals=2)),\n",
    "    \"init_pos\": [0.01, 0.1, 0.25, 0.5],\n",
    "    \"reset_pos\": [0.01, 0.1, 0.25, 0.5]\n",
    "}"
   ]
  },
  {
   "cell_type": "code",
   "execution_count": 12,
   "id": "e69e46f6-8f6d-447a-9db4-eb111291b6b0",
   "metadata": {},
   "outputs": [
    {
     "name": "stdout",
     "output_type": "stream",
     "text": [
      "#!/bin/env bash\n",
      "\n",
      "#SBATCH --array=0-3999\n",
      "#SBATCH --job-name=rtp-test\n",
      "#SBATCH --output=output/output-%j.txt\n",
      "#SBATCH --mem=2GB\n",
      "#SBATCH --time=0-4:0:0\n",
      "#SBATCH --nodes=1\n",
      "#SBATCH --cpus-per-task=1\n",
      "#SBATCH --partition=compute\n",
      "\n",
      "# What:\n",
      "# Hyp : \n",
      "# Vars:\n",
      "# Ranges:\n",
      "# How many cells : \n",
      "# Related to : \n",
      "\n",
      "MODEL=\n",
      "today=\"$(date +'%m%d%y')\"\n",
      "export EXPERIMENT_NAME=\"${today}/${SLURM_JOB_NAME}\" \n",
      "\n",
      "rate_reset_values=( 0.01 0.62 1.23 1.85 2.46 3.07 3.68 4.29 4.91 5.52 6.13 6.74 7.35 7.97 8.58 9.19 9.8 10.41 11.03 11.64 12.25 12.86 13.47 14.09 14.7 15.31 15.92 16.54 17.15 17.76 18.37 18.98 19.6 20.21 20.82 21.43 22.04 22.66 23.27 23.88 24.49 25.1 25.72 26.33 26.94 27.55 28.16 28.78 29.39 30.0 )\n",
      "rate_switch_values=( 1.0 2.0 3.0 4.0 5.0 )\n",
      "init_pos_values=( 0.01 0.1 0.25 0.5 )\n",
      "reset_pos_values=( 0.01 0.1 0.25 0.5 )\n",
      "\n",
      "trial=${SLURM_ARRAY_TASK_ID}\n",
      "rate_reset=${rate_reset_values[$(( trial % ${#rate_reset_values[@]} ))]}\n",
      "trial=$(( trial / ${#rate_reset_values[@]} ))\n",
      "rate_switch=${rate_switch_values[$(( trial % ${#rate_switch_values[@]} ))]}\n",
      "trial=$(( trial / ${#rate_switch_values[@]} ))\n",
      "init_pos=${init_pos_values[$(( trial % ${#init_pos_values[@]} ))]}\n",
      "trial=$(( trial / ${#init_pos_values[@]} ))\n",
      "reset_pos=${reset_pos_values[$(( trial % ${#reset_pos_values[@]} ))]}\n",
      "\n",
      "export OMP_NUM_THREADS=1\n",
      "export OMP_PROC_BIND=spread\n",
      "\n",
      "## use ${rate_reset}, ${rate_switch}, ${init_pos}, ${reset_pos} below\n",
      "\n",
      "\n",
      "cd ${MODEL}\n",
      "bin/${MODEL} -c \"../${cell_config}\" -e \"../${environment_config}\" --cid \"../${initial_cell_distributions}\"\n",
      "cd ..\n",
      "\n",
      "# post processing\n",
      "exp_dir=${MODEL}/results/${EXPERIMENT_NAME}\n",
      "write_file=${exp_dir}/data/${SLURM_ARRAY_TASK_ID}.h5\n",
      "\n",
      "# basic post process\n",
      "python3 util/post_process.py -b ${write_file}\n",
      "\n",
      "# make movie every 9th run\n",
      "if (( ${SLURM_ARRAY_TASK_ID} % 90 == 0 )); then\n",
      "  python3 util/post_process.py -m ${write_file}\n",
      "fi\n",
      "\n",
      "#for large configs, remove after completion to save space\n",
      "rm ${cell_config}\n",
      "\n",
      "# After all array tasks complete, submit the dependent job\n",
      "if [ \"${SLURM_ARRAY_TASK_ID}\" -eq \"${SLURM_ARRAY_TASK_MAX}\" ]; then\n",
      "    # Wait for all other array tasks to complete\n",
      "    # Get the parent job ID without the array task ID\n",
      "    parent_jobid=${SLURM_ARRAY_JOB_ID}\n",
      "    \n",
      "    # Submit the dependent job with dependency on the entire array\n",
      "fi\n"
     ]
    }
   ],
   "source": [
    "print(get_script(fields, params))"
   ]
  },
  {
   "cell_type": "code",
   "execution_count": null,
   "id": "3a8934d1-04e3-48c1-b210-4984c8d72849",
   "metadata": {},
   "outputs": [],
   "source": []
  }
 ],
 "metadata": {
  "kernelspec": {
   "display_name": "Python 3 (ipykernel)",
   "language": "python",
   "name": "python3"
  },
  "language_info": {
   "codemirror_mode": {
    "name": "ipython",
    "version": 3
   },
   "file_extension": ".py",
   "mimetype": "text/x-python",
   "name": "python",
   "nbconvert_exporter": "python",
   "pygments_lexer": "ipython3",
   "version": "3.12.0"
  }
 },
 "nbformat": 4,
 "nbformat_minor": 5
}
