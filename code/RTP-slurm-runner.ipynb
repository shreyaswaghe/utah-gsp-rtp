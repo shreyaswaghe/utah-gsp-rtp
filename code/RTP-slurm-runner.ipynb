{
 "cells": [
  {
   "cell_type": "code",
   "execution_count": 3,
   "id": "92a61130-3751-4e60-865f-e3fdd18501ed",
   "metadata": {},
   "outputs": [],
   "source": [
    "from slurm_sweeper import get_script, save_script\n",
    "import numpy as np"
   ]
  },
  {
   "cell_type": "code",
   "execution_count": 37,
   "id": "771787df-d01b-45e3-a8e5-ce0ec9cbe56b",
   "metadata": {},
   "outputs": [],
   "source": [
    "fields = {\n",
    "    'memory': 2,\n",
    "    'memory_unit': 'GB',\n",
    "    'num_nodes': 1,\n",
    "    'num_cpus': 1,\n",
    "    'time_d': 0, 'time_h': 4, 'time_m': 0, 'time_s': 0,\n",
    "    'job_name': 'rtp-test',\n",
    "    'output': 'output/output-%j.txt'\n",
    "}\n",
    "\n",
    "params = {\n",
    "    \"rate_reset\" : list(np.linspace(0.01, 30, 25)),\n",
    "    \"rate_switch\": list(np.linspace(0.01,5,25))\n",
    "}"
   ]
  },
  {
   "cell_type": "code",
   "execution_count": 38,
   "id": "e69e46f6-8f6d-447a-9db4-eb111291b6b0",
   "metadata": {},
   "outputs": [
    {
     "name": "stdout",
     "output_type": "stream",
     "text": [
      "#!/bin/env bash\n",
      "\n",
      "#SBATCH --array=0-624\n",
      "#SBATCH --job-name=rtp-test\n",
      "#SBATCH --output=output/output-%j.txt\n",
      "#SBATCH --mem=2GB\n",
      "#SBATCH --time=0-4:0:0\n",
      "#SBATCH --nodes=1\n",
      "#SBATCH --cpus-per-task=1\n",
      "#SBATCH --reservation=nqit\n",
      "\n",
      "rate_reset_values=( 0.01 1.2595833333333333 2.5091666666666663 3.7587499999999996 5.008333333333333 6.257916666666667 7.507499999999999 8.757083333333332 10.006666666666666 11.25625 12.505833333333333 13.755416666666665 15.004999999999999 16.254583333333333 17.504166666666666 18.75375 20.003333333333334 21.252916666666668 22.5025 23.752083333333335 25.00166666666667 26.25125 27.500833333333333 28.750416666666666 30.0 )\n",
      "rate_switch_values=( 0.01 0.21791666666666668 0.42583333333333334 0.63375 0.8416666666666667 1.0495833333333333 1.2575 1.4654166666666666 1.6733333333333333 1.88125 2.0891666666666664 2.297083333333333 2.505 2.7129166666666666 2.920833333333333 3.1287499999999997 3.3366666666666664 3.544583333333333 3.7525 3.9604166666666663 4.168333333333333 4.37625 4.5841666666666665 4.792083333333333 5.0 )\n",
      "\n",
      "trial=${SLURM_ARRAY_TASK_ID}\n",
      "rate_reset=${rate_reset_values[$(( trial % ${#rate_reset_values[@]} ))]}\n",
      "trial=$(( trial / ${#rate_reset_values[@]} ))\n",
      "rate_switch=${rate_switch_values[$(( trial % ${#rate_switch_values[@]} ))]}\n",
      "\n",
      "source ../../prep.sh\n",
      "export OMP_NUM_THREADS=1\n",
      "export OMP_PROC_BIND=spread\n",
      "\n",
      "## use ${rate_reset}, ${rate_switch} below\n"
     ]
    }
   ],
   "source": [
    "print(get_script(fields, params))"
   ]
  },
  {
   "cell_type": "code",
   "execution_count": null,
   "id": "3a8934d1-04e3-48c1-b210-4984c8d72849",
   "metadata": {},
   "outputs": [],
   "source": []
  }
 ],
 "metadata": {
  "kernelspec": {
   "display_name": "Python 3 (ipykernel)",
   "language": "python",
   "name": "python3"
  },
  "language_info": {
   "codemirror_mode": {
    "name": "ipython",
    "version": 3
   },
   "file_extension": ".py",
   "mimetype": "text/x-python",
   "name": "python",
   "nbconvert_exporter": "python",
   "pygments_lexer": "ipython3",
   "version": "3.12.0"
  }
 },
 "nbformat": 4,
 "nbformat_minor": 5
}
