{
 "cells": [
  {
   "cell_type": "code",
   "execution_count": 3,
   "id": "92a61130-3751-4e60-865f-e3fdd18501ed",
   "metadata": {},
   "outputs": [],
   "source": [
    "from slurm_sweeper import get_script, save_script\n",
    "import numpy as np"
   ]
  },
  {
   "cell_type": "code",
   "execution_count": 51,
   "id": "771787df-d01b-45e3-a8e5-ce0ec9cbe56b",
   "metadata": {},
   "outputs": [],
   "source": [
    "fields = {\n",
    "    'memory': 2,\n",
    "    'memory_unit': 'GB',\n",
    "    'num_nodes': 1,\n",
    "    'num_cpus': 1,\n",
    "    'time_d': 0, 'time_h': 4, 'time_m': 0, 'time_s': 0,\n",
    "    'job_name': 'rtp-test',\n",
    "    'output': 'output/output-%j.txt'\n",
    "}\n",
    "\n",
    "params = {\n",
    "    \"rate_reset\" : list(np.round(np.linspace(0.1, 30, 25), decimals=2)),\n",
    "    \"rate_switch\": list(np.round(np.linspace(1,5,5), decimals=2)),\n",
    "    \"init_pos\": [0.1, 0.25, 0.5, 0.75, 0.99],\n",
    "    \"reset_pos\": [0.1, 0.25, 0.5, 0.75, 0.99]\n",
    "}"
   ]
  },
  {
   "cell_type": "code",
   "execution_count": 52,
   "id": "e69e46f6-8f6d-447a-9db4-eb111291b6b0",
   "metadata": {},
   "outputs": [
    {
     "name": "stdout",
     "output_type": "stream",
     "text": [
      "#!/bin/env bash\n",
      "\n",
      "#SBATCH --array=0-3124\n",
      "#SBATCH --job-name=rtp-test\n",
      "#SBATCH --output=output/output-%j.txt\n",
      "#SBATCH --mem=2GB\n",
      "#SBATCH --time=0-4:0:0\n",
      "#SBATCH --nodes=1\n",
      "#SBATCH --cpus-per-task=1\n",
      "#SBATCH --reservation=nqit\n",
      "\n",
      "rate_reset_values=( 0.1 1.35 2.59 3.84 5.08 6.33 7.57 8.82 10.07 11.31 12.56 13.8 15.05 16.3 17.54 18.79 20.03 21.28 22.52 23.77 25.02 26.26 27.51 28.75 30.0 )\n",
      "rate_switch_values=( 1.0 2.0 3.0 4.0 5.0 )\n",
      "init_pos_values=( 0.1 0.25 0.5 0.75 0.99 )\n",
      "reset_pos_values=( 0.1 0.25 0.5 0.75 0.99 )\n",
      "\n",
      "trial=${SLURM_ARRAY_TASK_ID}\n",
      "rate_reset=${rate_reset_values[$(( trial % ${#rate_reset_values[@]} ))]}\n",
      "trial=$(( trial / ${#rate_reset_values[@]} ))\n",
      "rate_switch=${rate_switch_values[$(( trial % ${#rate_switch_values[@]} ))]}\n",
      "trial=$(( trial / ${#rate_switch_values[@]} ))\n",
      "init_pos=${init_pos_values[$(( trial % ${#init_pos_values[@]} ))]}\n",
      "trial=$(( trial / ${#init_pos_values[@]} ))\n",
      "reset_pos=${reset_pos_values[$(( trial % ${#reset_pos_values[@]} ))]}\n",
      "\n",
      "source ../../prep.sh\n",
      "export OMP_NUM_THREADS=1\n",
      "export OMP_PROC_BIND=spread\n",
      "\n",
      "## use ${rate_reset}, ${rate_switch}, ${init_pos}, ${reset_pos} below\n"
     ]
    }
   ],
   "source": [
    "print(get_script(fields, params))"
   ]
  },
  {
   "cell_type": "code",
   "execution_count": null,
   "id": "3a8934d1-04e3-48c1-b210-4984c8d72849",
   "metadata": {},
   "outputs": [],
   "source": []
  }
 ],
 "metadata": {
  "kernelspec": {
   "display_name": "Python 3 (ipykernel)",
   "language": "python",
   "name": "python3"
  },
  "language_info": {
   "codemirror_mode": {
    "name": "ipython",
    "version": 3
   },
   "file_extension": ".py",
   "mimetype": "text/x-python",
   "name": "python",
   "nbconvert_exporter": "python",
   "pygments_lexer": "ipython3",
   "version": "3.12.0"
  }
 },
 "nbformat": 4,
 "nbformat_minor": 5
}
